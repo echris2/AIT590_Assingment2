{
 "cells": [
  {
   "cell_type": "markdown",
   "metadata": {},
   "source": [
    "### Name: Srikanth Vadlamani\n",
    "### Professor: Liao\n",
    "### AIT-590-B01\n",
    "#### Assignment: Optional Lab1\n",
    "------------------------------------------------------------------------------\n",
    "#### Description: The code runs in Python3. \n",
    "\n",
    "#### Citations\n",
    "    https://notebooks.azure.com/graememalcolmoutlook/projects/text-mining/html/02-Text%20Analytics%20Fundamentals.ipynb\n",
    "    https://medium.com/predict/create-your-chatbot-using-python-nltk-761cd0aeaed3\n",
    "    https://www.digitalocean.com/community/tutorials/how-to-perform-sentiment-analysis-in-python-3-using-the-natural-language-toolkit-nltk\n"
   ]
  },
  {
   "cell_type": "markdown",
   "metadata": {},
   "source": [
    "#### Import Librariries"
   ]
  },
  {
   "cell_type": "code",
   "execution_count": 3,
   "metadata": {},
   "outputs": [],
   "source": [
    "import bs4 as bs  # BeautifulSoup\n",
    "import urllib.request\n",
    "import re\n",
    "import nltk"
   ]
  },
  {
   "cell_type": "markdown",
   "metadata": {},
   "source": [
    "#### 1. Scrape the textdata from webpage with BeautifulSoup"
   ]
  },
  {
   "cell_type": "code",
   "execution_count": 4,
   "metadata": {},
   "outputs": [],
   "source": [
    "def _scrape_webpage(url):\n",
    "    \"\"\"\n",
    "    Use BeautifulSoup to scrape the webpage text contents.\n",
    "    \"\"\"    \n",
    "    scraped_textdata = urllib.request.urlopen(url)\n",
    "    textdata = scraped_textdata.read()\n",
    "    parsed_textdata = bs.BeautifulSoup(textdata,'lxml')\n",
    "    paragraphs = parsed_textdata.find_all('p')\n",
    "    formated_text = \"\"\n",
    "\n",
    "    for para in paragraphs:\n",
    "        formated_text += para.text\n",
    "    \n",
    "    return formated_text"
   ]
  },
  {
   "cell_type": "code",
   "execution_count": 5,
   "metadata": {},
   "outputs": [],
   "source": [
    "mytext = _scrape_webpage('https://en.wikipedia.org/wiki/Natural_language_processing')"
   ]
  },
  {
   "cell_type": "markdown",
   "metadata": {},
   "source": [
    "#### Remove Punctuation and Digits\n",
    "##### 2.1 Tokenize the words\n",
    "##### 2.2 Remove the stop words, punctuation,anddigit numbers."
   ]
  },
  {
   "cell_type": "code",
   "execution_count": 6,
   "metadata": {},
   "outputs": [
    {
     "name": "stdout",
     "output_type": "stream",
     "text": [
      "Natural language processing NLP is a subfield of linguistics computer science information engineering and artificial intelligence concerned with the interactions between computers and human natural languages in particular how to program computers to process and analyze large amounts of natural language data\n",
      "Challenges in natural language processing frequently involve speech recognition natural language understanding and natural language generation\n",
      "The history of natural language processing NLP generally started in the s although work can be found from earlier periods\n",
      "In  Alan Turing published an article titled Computing Machinery and Intelligence which proposed what is now called the Turing test as a criterion of intelligenceclarification needed\n",
      "The Georgetown experiment in  involved fully automatic translation of more than sixty Russian sentences into English The authors claimed that within three or five years machine translation would be a solved problem  However real progress was much slower and after the ALPAC report in  which found that tenyearlong research had failed to fulfill the expectations funding for machine translation was dramatically reduced  Little further research in machine translation was conducted until the late s when the first statistical machine translation systems were developed\n",
      "Some notably successful natural language processing systems developed in the s were SHRDLU a natural language system working in restricted blocks worlds with restricted vocabularies and ELIZA a simulation of a Rogerian psychotherapist written by Joseph Weizenbaum between  and   Using almost no information about human thought or emotion ELIZA sometimes provided a startlingly humanlike interaction When the patient exceeded the very small knowledge base ELIZA might provide a generic response for example responding to My head hurts with Why do you say your head hurts\n",
      "During the s many programmers began to write conceptual ontologies which structured realworld information into computerunderstandable data  Examples are MARGIE Schank  SAM Cullingford  PAM Wilensky  TaleSpin Meehan  QUALM Lehnert  Politics Carbonell  and Plot Units Lehnert   During this time many chatterbots were written including PARRY Racter and Jabberwacky\n",
      "Up to the s most natural language processing systems were based on complex sets of handwritten rules  Starting in the late s however there was a revolution in natural language processing with the introduction of machine learning algorithms for language processing  This was due to both the steady increase in computational power see Moores law and the gradual lessening of the dominance of Chomskyan theories of linguistics eg transformational grammar whose theoretical underpinnings discouraged the sort of corpus linguistics that underlies the machinelearning approach to language processing Some of the earliestused machine learning algorithms such as decision trees produced systems of hard ifthen rules similar to existing handwritten rules  However partofspeech tagging introduced the use of hidden Markov models to natural language processing and increasingly research has focused on statistical models which make soft probabilistic decisions based on attaching realvalued weights to the features making up the input data The cache language models upon which many speech recognition systems now rely are examples of such statistical models  Such models are generally more robust when given unfamiliar input especially input that contains errors as is very common for realworld data and produce more reliable results when integrated into a larger system comprising multiple subtasks\n",
      "Many of the notable early successes occurred in the field of machine translation due especially to work at IBM Research where successively more complicated statistical models were developed  These systems were able to take advantage of existing multilingual textual corpora that had been produced by the Parliament of Canada and the European Union as a result of laws calling for the translation of all governmental proceedings into all official languages of the corresponding systems of government  However most other systems depended on corpora specifically developed for the tasks implemented by these systems which was and often continues to be a major limitation in the success of these systems As a result a great deal of research has gone into methods of more effectively learning from limited amounts of data\n",
      "Recent research has increasingly focused on unsupervised and semisupervised learning algorithms  Such algorithms can learn from data that has not been handannotated with the desired answers or using a combination of annotated and nonannotated data  Generally this task is much more difficult than supervised learning and typically produces less accurate results for a given amount of input data  However there is an enormous amount of nonannotated data available including among other things the entire content of the World Wide Web which can often make up for the inferior results if the algorithm used has a low enough time complexity to be practical\n",
      "In the s representation learning and deep neural networkstyle machine learning methods became widespread in natural language processing due in part to a flurry of results showing that such techniques can achieve stateoftheart results in many natural language tasks for example in language modeling parsing and many others Popular techniques include the use of word embeddings to capture semantic properties of words and an increase in endtoend learning of a higherlevel task eg question answering instead of relying on a pipeline of separate intermediate tasks eg partofspeech tagging and dependency parsing In some areas this shift has entailed substantial changes in how NLP systems are designed such that deep neural networkbased approaches may be viewed as a new paradigm distinct from statistical natural language processing For instance the term neural machine translation NMT emphasizes the fact that deep learningbased approaches to machine translation directly learn sequencetosequence transformations obviating the need for intermediate steps such as word alignment and language modeling that was used in statistical machine translation SMT\n",
      "In the early days many languageprocessing systems were designed by handcoding a set of rules such as by writing grammars or devising heuristic rules for stemming \n",
      "Since the socalled statistical revolution in the late s and mids much natural language processing research has relied heavily on machine learning The machinelearning paradigm calls instead for using statistical inference to automatically learn such rules through the analysis of large corpora the plural form of corpus is a set of documents possibly with human or computer annotations of typical realworld examples\n",
      "Many different classes of machinelearning algorithms have been applied to naturallanguageprocessing tasks These algorithms take as input a large set of features that are generated from the input data Some of the earliestused algorithms such as decision trees produced systems of hard ifthen rules similar to the systems of handwritten rules that were then common Increasingly however research has focused on statistical models which make soft probabilistic decisions based on attaching realvalued weights to each input feature Such models have the advantage that they can express the relative certainty of many different possible answers rather than only one producing more reliable results when such a model is included as a component of a larger system\n",
      "Systems based on machinelearning algorithms have many advantages over handproduced rules\n",
      "The following is a list of some of the most commonly researched tasks in natural language processing Some of these tasks have direct realworld applications while others more commonly serve as subtasks that are used to aid in solving larger tasks\n",
      "Though natural language processing tasks are closely intertwined they are frequently subdivided into categories for convenience A coarse division is given below\n",
      "The first published work by an artificial intelligence was published in   the Road marketed as a novel contains sixty million words\n",
      "Cognition refers to the mental action or process of acquiring knowledge and understanding through thought experience and the senses Cognitive science is the interdisciplinary scientific study of the mind and its processes Cognitive linguistics is an interdisciplinary branch of linguistics combining knowledge and research from both psychology and linguistics George Lakoff offers a methodology to build Natural language processing NLP algorithms through the perspective of Cognitive science along with the findings of Cognitive linguistics \n",
      "The first defining aspect of this cognitive task of NLP is the application of the theory of Conceptual metaphor explained by Lakoff as “the understanding of one idea in terms of another” which provides an idea of the intent of the author \n",
      "For example consider some of the meanings in English of the word “big” When used as a Comparative as in “That is a big tree” a likely inference of the intent of the author is that the author is using the word “big” to imply a statement about the tree being ”physically large” in comparison to other trees or the authors experience  When used as a Stative verb as in ”Tomorrow is a big day” a likely inference of the author’s intent it that ”big” is being used to imply ”importance”  These examples are not presented to be complete but merely as indicators of the implication of the idea of Conceptual metaphor  The intent behind other usages like in ”She is a big person” will remain somewhat ambiguous to a person and a cognitive NLP algorithm alike without additional information  \n",
      "This leads to the second defining aspect of this cognitive task of NLP namely Probabilistic contextfree grammar PCFG which enables cognitive NLP algorithms to assign relative measures of meaning  to a word phrase sentence or piece of text based on the information presented before and after the piece of text being analyzed The mathematical equation for such algorithms is presented in US patent   \n",
      "Where\n",
      "     RMM is the Relative Measure of Meaning\n",
      "     token is any block of text sentence phrase or word\n",
      "     N is the number of tokens being analyzed\n",
      "     PMM is the Probable Measure of Meaning based on a corpora\n",
      "     n is one less than the number of tokens being analyzed\n",
      "     d is the location of the token along the sequence of n tokens\n",
      "     PF is the Probability Function specific to a language\n",
      "\n"
     ]
    }
   ],
   "source": [
    "from string import punctuation\n",
    "\n",
    "def remove_punctation(str):\n",
    "    return ''.join(c for c in str if c not in punctuation)\n",
    "\n",
    "txtNoPuctuation = remove_punctation(mytext)\n",
    "\n",
    "\n",
    "txtNoNumbers = ''.join(c for c in txtNoPuctuation if not c.isdigit())\n",
    "print(txtNoNumbers)"
   ]
  },
  {
   "cell_type": "markdown",
   "metadata": {},
   "source": [
    "#### Remove Stop words\n",
    "##### 2.2 Remove the stop words"
   ]
  },
  {
   "cell_type": "code",
   "execution_count": 7,
   "metadata": {},
   "outputs": [
    {
     "name": "stdout",
     "output_type": "stream",
     "text": [
      "['Natural', 'language', 'processing', 'NLP', 'subfield', 'linguistics', 'computer', 'science', 'information', 'engineering', 'artificial', 'intelligence', 'concerned', 'interactions', 'computers', 'human', 'natural', 'languages', 'particular', 'program', 'computers', 'process', 'analyze', 'large', 'amounts', 'natural', 'language', 'data', 'Challenges', 'natural', 'language', 'processing', 'frequently', 'involve', 'speech', 'recognition', 'natural', 'language', 'understanding', 'natural', 'language', 'generation', 'The', 'history', 'natural', 'language', 'processing', 'NLP', 'generally', 'started']\n"
     ]
    }
   ],
   "source": [
    "from nltk.corpus import stopwords\n",
    "from nltk.tokenize import word_tokenize\n",
    "\n",
    "text_tokens = word_tokenize(txtNoNumbers)\n",
    "\n",
    "tokens_without_sw = [token for token in text_tokens if token not in stopwords.words('english')]\n",
    "print(tokens_without_sw[0:50])"
   ]
  },
  {
   "cell_type": "markdown",
   "metadata": {},
   "source": [
    "#### 2.3 Lemmatize the words"
   ]
  },
  {
   "cell_type": "code",
   "execution_count": 8,
   "metadata": {},
   "outputs": [
    {
     "name": "stdout",
     "output_type": "stream",
     "text": [
      "['Natural', 'language', 'processing', 'NLP', 'subfield', 'linguistics', 'computer', 'science', 'information', 'engineering', 'artificial', 'intelligence', 'concerned', 'interaction', 'computer', 'human', 'natural', 'language', 'particular', 'program', 'computer', 'process', 'analyze', 'large', 'amount', 'natural', 'language', 'data', 'Challenges', 'natural', 'language', 'processing', 'frequently', 'involve', 'speech', 'recognition', 'natural', 'language', 'understanding', 'natural', 'language', 'generation', 'The', 'history', 'natural', 'language', 'processing', 'NLP', 'generally', 'started']\n"
     ]
    }
   ],
   "source": [
    "from nltk.stem import WordNetLemmatizer\n",
    "\n",
    "wordnet_lemmatizer = WordNetLemmatizer()\n",
    "lemmatized_word = [wordnet_lemmatizer.lemmatize(word) for word in tokens_without_sw]\n",
    "print (lemmatized_word[0:50])"
   ]
  },
  {
   "cell_type": "markdown",
   "metadata": {},
   "source": [
    "#### 2.4 Calculate the frequency distribution"
   ]
  },
  {
   "cell_type": "code",
   "execution_count": 9,
   "metadata": {
    "scrolled": true
   },
   "outputs": [
    {
     "name": "stdout",
     "output_type": "stream",
     "text": [
      "<FreqDist with 544 samples and 1019 outcomes>\n",
      "[('language', 26), ('natural', 17), ('system', 17), ('processing', 15), ('”', 14), ('algorithm', 13), ('machine', 12), ('task', 12), ('data', 10), ('The', 10), ('translation', 10), ('statistical', 9), ('rule', 9), ('learning', 9), ('model', 9), ('NLP', 8), ('research', 8), ('many', 8), ('result', 8), ('word', 8)]\n"
     ]
    },
    {
     "data": {
      "image/png": "[encoded data removed]",
      "text/plain": [
       "<Figure size 432x288 with 1 Axes>"
      ]
     },
     "metadata": {
      "needs_background": "light"
     },
     "output_type": "display_data"
    },
    {
     "data": {
      "text/plain": [
       "<matplotlib.axes._subplots.AxesSubplot at 0x13447c6d8>"
      ]
     },
     "execution_count": 9,
     "metadata": {},
     "output_type": "execute_result"
    }
   ],
   "source": [
    "freq_dist = nltk.FreqDist(lemmatized_word)\n",
    "print(freq_dist)\n",
    "k = 20\n",
    "print(freq_dist.most_common(k))\n",
    "freq_dist.plot(k)"
   ]
  },
  {
   "cell_type": "markdown",
   "metadata": {},
   "source": [
    "#### 2.5 List and plot the top 15words"
   ]
  },
  {
   "cell_type": "code",
   "execution_count": 10,
   "metadata": {},
   "outputs": [
    {
     "name": "stdout",
     "output_type": "stream",
     "text": [
      "language: 26\n",
      "natural: 17\n",
      "system: 17\n",
      "processing: 15\n",
      "”: 14\n",
      "algorithm: 13\n",
      "machine: 12\n",
      "task: 12\n",
      "data: 10\n",
      "The: 10\n",
      "translation: 10\n",
      "statistical: 9\n",
      "rule: 9\n",
      "learning: 9\n",
      "model: 9\n",
      "NLP: 8\n",
      "research: 8\n",
      "many: 8\n",
      "result: 8\n",
      "word: 8\n"
     ]
    }
   ],
   "source": [
    "for word, frequency in freq_dist.most_common(k):\n",
    "    print(u'{}: {}'.format(word, frequency))"
   ]
  },
  {
   "cell_type": "markdown",
   "metadata": {},
   "source": [
    "##### Follow code examples to compute Unigram& Bigram tables using FreqDist"
   ]
  },
  {
   "cell_type": "code",
   "execution_count": 11,
   "metadata": {},
   "outputs": [],
   "source": [
    "from nltk.util import ngrams\n",
    "\n",
    "def extract_ngrams(data, num):\n",
    "    n_grams = ngrams(data, num)\n",
    "    return [' '.join(grams) for grams in n_grams]"
   ]
  },
  {
   "cell_type": "markdown",
   "metadata": {},
   "source": [
    "#### Calculated relative frequency using n_grams"
   ]
  },
  {
   "cell_type": "code",
   "execution_count": 90,
   "metadata": {},
   "outputs": [],
   "source": [
    "def _find_relative_frequency(freq_dist, n_grams) -> dict:\n",
    "    reltv_frequencies = {}\n",
    "    for word in n_grams:\n",
    "        if word not in reltv_frequencies.keys():\n",
    "            reltv_frequencies[word] = 1\n",
    "        else:\n",
    "            reltv_frequencies[word] += 1\n",
    "\n",
    "    for word in reltv_frequencies.keys():\n",
    "        reltv_frequencies[word] = (reltv_frequencies[word]/freq_dist.N())\n",
    "\n",
    "    return reltv_frequencies"
   ]
  },
  {
   "cell_type": "code",
   "execution_count": 93,
   "metadata": {},
   "outputs": [],
   "source": [
    "from nltk.tokenize import sent_tokenize\n",
    "\n",
    "def _calculate_score(ngram_rltv_freq, n_grams) -> dict:\n",
    "    \n",
    "    sentence_tokens = sent_tokenize(mytext)\n",
    "    sentence_tokens[:10]\n",
    "    \n",
    "    sentence_score = {}\n",
    "    for sent in sentence_tokens:\n",
    "        for n_gram in n_grams:\n",
    "            if n_gram in ngram_rltv_freq.keys():\n",
    "                if len(sent.split(' ')) < 25:\n",
    "                    if sent not in sentence_score.keys():\n",
    "                        sentence_score[sent] = ngram_rltv_freq[n_gram]\n",
    "                    else:\n",
    "                        sentence_score[sent] += ngram_rltv_freq[n_gram]\n",
    "    \n",
    "    return sentence_score"
   ]
  },
  {
   "cell_type": "markdown",
   "metadata": {},
   "source": [
    "#### Calculate Score and create BiGram summary"
   ]
  },
  {
   "cell_type": "code",
   "execution_count": 94,
   "metadata": {},
   "outputs": [
    {
     "data": {
      "text/plain": [
       "{'Challenges in natural language processing frequently involve speech recognition, natural language understanding, and natural language generation.': 1.6604514229636893,\n",
       " 'The history of natural language processing (NLP) generally started in the 1950s, although work can be found from earlier periods.': 1.6604514229636893,\n",
       " 'The Georgetown experiment in 1954 involved fully automatic translation of more than sixty Russian sentences into English.': 1.6604514229636893,\n",
       " 'The authors claimed that within three or five years, machine translation would be a solved problem.': 1.6604514229636893,\n",
       " 'Little further research in machine translation was conducted until the late 1980s when the first statistical machine translation systems were developed.': 1.6604514229636893,\n",
       " 'Using almost no information about human thought or emotion, ELIZA sometimes provided a startlingly human-like interaction.': 1.6604514229636893,\n",
       " 'During the 1970s, many programmers began to write \"conceptual ontologies\", which structured real-world information into computer-understandable data.': 1.6604514229636893,\n",
       " 'During this time, many chatterbots were written including PARRY, Racter, and Jabberwacky.': 1.6604514229636893,\n",
       " 'Up to the 1980s, most natural language processing systems were based on complex sets of hand-written rules.': 1.6604514229636893,\n",
       " 'Starting in the late 1980s, however, there was a revolution in natural language processing with the introduction of machine learning algorithms for language processing.': 1.6604514229636893}"
      ]
     },
     "execution_count": 94,
     "metadata": {},
     "output_type": "execute_result"
    }
   ],
   "source": [
    "gram_num = 2\n",
    "# data[\"text\"] = [preprocess_text(t) for t in data[\"text\"]]\n",
    "n2_grams = extract_ngrams(tokens_without_sw, gram_num)\n",
    "\n",
    "n2gram_rltv_freq = _find_relative_frequency(freq_dist, n2_grams)\n",
    "n2_score = _calculate_score(n2gram_rltv_freq, n2_grams)\n",
    "dict(list(n2_score.items())[0:10])"
   ]
  },
  {
   "cell_type": "code",
   "execution_count": 95,
   "metadata": {},
   "outputs": [
    {
     "name": "stdout",
     "output_type": "stream",
     "text": [
      "Challenges in natural language processing frequently involve speech recognition, natural language understanding, and natural language generation. The history of natural language processing (NLP) generally started in the 1950s, although work can be found from earlier periods. The Georgetown experiment in 1954 involved fully automatic translation of more than sixty Russian sentences into English.\n"
     ]
    }
   ],
   "source": [
    "import heapq\n",
    "sentence_num = 3\n",
    "summary_sentence = heapq.nlargest(sentence_num, n2_score, key=n2_score.get)\n",
    "summary=' '.join(summary_sentence)\n",
    "print(summary)"
   ]
  },
  {
   "cell_type": "markdown",
   "metadata": {},
   "source": [
    "#### Calculate Score and create Tri-Gram summary"
   ]
  },
  {
   "cell_type": "code",
   "execution_count": 100,
   "metadata": {},
   "outputs": [
    {
     "data": {
      "text/plain": [
       "{'Challenges in natural language processing frequently involve speech recognition, natural language understanding, and natural language generation.': 1.6604514229636893,\n",
       " 'The history of natural language processing (NLP) generally started in the 1950s, although work can be found from earlier periods.': 1.6604514229636893,\n",
       " 'The Georgetown experiment in 1954 involved fully automatic translation of more than sixty Russian sentences into English.': 1.6604514229636893,\n",
       " 'The authors claimed that within three or five years, machine translation would be a solved problem.': 1.6604514229636893,\n",
       " 'Little further research in machine translation was conducted until the late 1980s when the first statistical machine translation systems were developed.': 1.6604514229636893,\n",
       " 'Using almost no information about human thought or emotion, ELIZA sometimes provided a startlingly human-like interaction.': 1.6604514229636893,\n",
       " 'During the 1970s, many programmers began to write \"conceptual ontologies\", which structured real-world information into computer-understandable data.': 1.6604514229636893,\n",
       " 'During this time, many chatterbots were written including PARRY, Racter, and Jabberwacky.': 1.6604514229636893,\n",
       " 'Up to the 1980s, most natural language processing systems were based on complex sets of hand-written rules.': 1.6604514229636893,\n",
       " 'Starting in the late 1980s, however, there was a revolution in natural language processing with the introduction of machine learning algorithms for language processing.': 1.6604514229636893}"
      ]
     },
     "execution_count": 100,
     "metadata": {},
     "output_type": "execute_result"
    }
   ],
   "source": [
    "gram_num = 3\n",
    "# data[\"text\"] = [preprocess_text(t) for t in data[\"text\"]]\n",
    "n3_grams = extract_ngrams(tokens_without_sw, gram_num)\n",
    "\n",
    "# n3gram_rltv_freq = _find_relative_frequency(freq_dist, n3_grams)\n",
    "n3gram_rltv_freq = _find_relative_frequency(freq_dist, n3_grams)\n",
    "n3_score = _calculate_score(n2gram_rltv_freq, n2_grams)\n",
    "dict(list(n3_score.items())[0:10])"
   ]
  },
  {
   "cell_type": "code",
   "execution_count": 101,
   "metadata": {},
   "outputs": [
    {
     "name": "stdout",
     "output_type": "stream",
     "text": [
      "Challenges in natural language processing frequently involve speech recognition, natural language understanding, and natural language generation. The history of natural language processing (NLP) generally started in the 1950s, although work can be found from earlier periods. The Georgetown experiment in 1954 involved fully automatic translation of more than sixty Russian sentences into English.\n"
     ]
    }
   ],
   "source": [
    "import heapq\n",
    "sentence_num = 3\n",
    "summary_sentence = heapq.nlargest(sentence_num, n3_score, key=n3_score.get)\n",
    "summary=' '.join(summary_sentence)\n",
    "print(summary)"
   ]
  },
  {
   "cell_type": "markdown",
   "metadata": {},
   "source": [
    "#### 2.2(2 points)Write a function to calculate the relative frequency table\n",
    "#### 2.3 (1 point)Normalize each row in the relative frequency table \n",
    "#### 2.4( 3points)Write a function for Word Prediction\n",
    "####  2.4.1 Input a word\n",
    "####     2.4.2 Choosea random number r (0<r<1) to see if it falls on the distribution\n",
    "####     2.4.3 If yes, output the predicted word; else output “NULL”.2.5(0.4point)Call Word \n",
    "####  Predictionfunction to try 2+different cases"
   ]
  },
  {
   "cell_type": "code",
   "execution_count": null,
   "metadata": {},
   "outputs": [],
   "source": []
  }
 ],
 "metadata": {
  "kernelspec": {
   "display_name": "Python 3",
   "language": "python",
   "name": "python3"
  },
  "language_info": {
   "codemirror_mode": {
    "name": "ipython",
    "version": 3
   },
   "file_extension": ".py",
   "mimetype": "text/x-python",
   "name": "python",
   "nbconvert_exporter": "python",
   "pygments_lexer": "ipython3",
   "version": "3.6.3"
  }
 },
 "nbformat": 4,
 "nbformat_minor": 2
}
